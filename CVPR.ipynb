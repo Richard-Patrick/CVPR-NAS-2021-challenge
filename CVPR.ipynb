{
 "cells": [
  {
   "cell_type": "markdown",
   "id": "491afb7d",
   "metadata": {},
   "source": [
    "# Import Library"
   ]
  },
  {
   "cell_type": "code",
   "execution_count": 1,
   "id": "456e0a0d",
   "metadata": {},
   "outputs": [],
   "source": [
    "import pandas as pd\n",
    "import numpy as np  \n",
    "import tensorflow as tf\n",
    "from tensorflow.keras.models import Sequential\n",
    "from tensorflow.keras.layers import Conv2D, MaxPooling2D, Flatten, Dense\n",
    "from tensorflow.keras.utils import to_categorical\n",
    "import matplotlib.pyplot as plt"
   ]
  },
  {
   "cell_type": "markdown",
   "id": "be3f1230",
   "metadata": {},
   "source": [
    "# methods"
   ]
  },
  {
   "cell_type": "code",
   "execution_count": 2,
   "id": "34be08e8",
   "metadata": {},
   "outputs": [],
   "source": [
    "def image_normalization(arr):\n",
    "    return (arr - arr.min())/(arr.max()-arr.min())"
   ]
  },
  {
   "cell_type": "markdown",
   "id": "30de2fe7",
   "metadata": {},
   "source": [
    "# Use GPU"
   ]
  },
  {
   "cell_type": "code",
   "execution_count": 3,
   "id": "4194b92d",
   "metadata": {},
   "outputs": [],
   "source": [
    "gpus = tf.config.experimental.list_physical_devices('GPU')\n",
    "if gpus:\n",
    "  try:\n",
    "    for gpu in gpus:\n",
    "      tf.config.experimental.set_memory_growth(gpu, True)\n",
    "  except RuntimeError as e:\n",
    "    print(e)"
   ]
  },
  {
   "cell_type": "code",
   "execution_count": 4,
   "id": "a450527b",
   "metadata": {},
   "outputs": [],
   "source": [
    "physical_devices = tf.config.list_physical_devices('GPU')\n",
    "if len(physical_devices) > 0:\n",
    "    tf.config.set_visible_devices(physical_devices[0], 'GPU')"
   ]
  },
  {
   "cell_type": "markdown",
   "id": "506554b3",
   "metadata": {},
   "source": [
    "# Data read"
   ]
  },
  {
   "cell_type": "code",
   "execution_count": 4,
   "id": "9a25845b",
   "metadata": {},
   "outputs": [],
   "source": [
    "train_x = np.load('data/train_x.npy')\n",
    "test_x = np.load('data/test_x.npy')\n",
    "val_x = np.load('data/valid_x.npy')\n",
    "train_y = np.load('data/train_y.npy')\n",
    "test_y = np.load('data/test_y.npy')\n",
    "val_y = np.load('data/valid_y.npy')"
   ]
  },
  {
   "cell_type": "markdown",
   "id": "de8b0355",
   "metadata": {},
   "source": [
    "# Image Normalization"
   ]
  },
  {
   "cell_type": "code",
   "execution_count": 5,
   "id": "69c6cd37",
   "metadata": {},
   "outputs": [],
   "source": [
    "train_x = image_normalization(train_x)\n",
    "test_x = image_normalization(train_x)\n",
    "val_x = image_normalization(train_x)"
   ]
  },
  {
   "cell_type": "code",
   "execution_count": 6,
   "id": "a7625b77",
   "metadata": {},
   "outputs": [],
   "source": [
    "y_train_encoded = to_categorical(train_y, num_classes=4)\n",
    "y_val_encoded = to_categorical(val_y, num_classes=4)\n",
    "y_test_encoded = to_categorical(test_y, num_classes=4)"
   ]
  },
  {
   "cell_type": "code",
   "execution_count": 7,
   "id": "0a48820d",
   "metadata": {},
   "outputs": [],
   "source": [
    "X_train = train_x.transpose((0, 2, 3, 1))\n",
    "X_test = test_x.transpose((0, 2, 3, 1))\n",
    "X_val = val_x.transpose((0, 2, 3, 1))"
   ]
  },
  {
   "cell_type": "markdown",
   "id": "70d0b0b9",
   "metadata": {},
   "source": [
    "# Plot Random Image"
   ]
  },
  {
   "cell_type": "code",
   "execution_count": 8,
   "id": "d564291c",
   "metadata": {},
   "outputs": [
    {
     "data": {
      "image/png": "[encoded data removed]",
      "text/plain": [
       "<Figure size 640x480 with 1 Axes>"
      ]
     },
     "metadata": {},
     "output_type": "display_data"
    },
    {
     "name": "stdout",
     "output_type": "stream",
     "text": [
      "3\n"
     ]
    }
   ],
   "source": [
    "Random_Num = np.random.randint(0,(len(train_x)-1))\n",
    "img = train_x[Random_Num]\n",
    "img = img.transpose(1, 2, 0) \n",
    "\n",
    "plt.imshow(img)\n",
    "plt.title('Image')\n",
    "plt.axis('off')\n",
    "plt.show()\n",
    "print(train_y[Random_Num])"
   ]
  },
  {
   "cell_type": "code",
   "execution_count": 9,
   "id": "c4a7501d",
   "metadata": {},
   "outputs": [],
   "source": [
    "model = Sequential()\n",
    "\n",
    "# First Convolutional Layer\n",
    "model.add(Conv2D(32, (3, 3), activation='relu', input_shape=(64, 64, 3)))\n",
    "model.add(MaxPooling2D(pool_size=(2, 2)))\n",
    "\n",
    "# Second Convolutional Layer\n",
    "model.add(Conv2D(64, (3, 3), activation='relu'))\n",
    "model.add(MaxPooling2D(pool_size=(2, 2)))\n",
    "\n",
    "# Third Convolutional Layer\n",
    "model.add(Conv2D(128, (3, 3), activation='relu'))\n",
    "model.add(MaxPooling2D(pool_size=(2, 2)))\n",
    "\n",
    "# Fully Connected Layer\n",
    "model.add(Flatten())\n",
    "model.add(Dense(128, activation='relu'))\n",
    "\n",
    "# Output Layer\n",
    "model.add(Dense(4, activation='softmax'))  # Assuming 10 classes for classification\n",
    "\n",
    "# Compile the model\n",
    "model.compile(optimizer='adam', loss='categorical_crossentropy', metrics=['accuracy'])"
   ]
  },
  {
   "cell_type": "code",
   "execution_count": 10,
   "id": "8445136d",
   "metadata": {},
   "outputs": [
    {
     "data": {
      "text/plain": [
       "'\\nhistory = model.fit(data_gen.flow(X_train, y_train_encoded, batch_size=32),\\n                    epochs=10,\\n                    validation_data=(test_images, test_labels))\\n\\n'"
      ]
     },
     "execution_count": 10,
     "metadata": {},
     "output_type": "execute_result"
    }
   ],
   "source": [
    "import numpy as np\n",
    "import tensorflow as tf\n",
    "from tensorflow import keras\n",
    "from tensorflow.keras import layers, models, datasets\n",
    "from tensorflow.keras.applications import ResNet50\n",
    "from tensorflow.keras.preprocessing.image import ImageDataGenerator\n",
    "\n",
    "\n",
    "'''# Data Augmentation\n",
    "data_gen = ImageDataGenerator(\n",
    "    rotation_range=15,\n",
    "    width_shift_range=0.1,\n",
    "    height_shift_range=0.1,\n",
    "    horizontal_flip=True,\n",
    ")\n",
    "data_gen.fit(train_images)\n",
    "'''\n",
    "\n",
    "base_model = ResNet50(weights=None, include_top=False, input_shape=(64, 64, 3))\n",
    "\n",
    "model = models.Sequential()\n",
    "model.add(base_model)\n",
    "model.add(layers.GlobalAveragePooling2D())\n",
    "model.add(layers.Dense(4, activation='softmax'))\n",
    "\n",
    "# Compile the Model\n",
    "model.compile(optimizer='adam',\n",
    "              loss='categorical_crossentropy',\n",
    "              metrics=['accuracy'])\n",
    "'''\n",
    "history = model.fit(data_gen.flow(X_train, y_train_encoded, batch_size=32),\n",
    "                    epochs=10,\n",
    "                    validation_data=(test_images, test_labels))\n",
    "\n",
    "'''"
   ]
  },
  {
   "cell_type": "code",
   "execution_count": 11,
   "id": "ea05b209",
   "metadata": {},
   "outputs": [
    {
     "ename": "NameError",
     "evalue": "name 'data_gen' is not defined",
     "output_type": "error",
     "traceback": [
      "\u001b[1;31m---------------------------------------------------------------------------\u001b[0m",
      "\u001b[1;31mNameError\u001b[0m                                 Traceback (most recent call last)",
      "\u001b[1;32me:\\Work\\Github\\CVPR-NAS-2021\\CVPR.ipynb Cell 18\u001b[0m line \u001b[0;36m1\n\u001b[1;32m----> <a href='vscode-notebook-cell:/e%3A/Work/Github/CVPR-NAS-2021/CVPR.ipynb#X31sZmlsZQ%3D%3D?line=0'>1</a>\u001b[0m history \u001b[39m=\u001b[39m model\u001b[39m.\u001b[39mfit(data_gen\u001b[39m.\u001b[39mflow(X_train, y_train_encoded, batch_size\u001b[39m=\u001b[39m\u001b[39m32\u001b[39m), epochs\u001b[39m=\u001b[39m\u001b[39m10\u001b[39m, validation_data\u001b[39m=\u001b[39m(X_val, y_val_encoded))\n",
      "\u001b[1;31mNameError\u001b[0m: name 'data_gen' is not defined"
     ]
    }
   ],
   "source": [
    "history = model.fit(data_gen.flow(X_train, y_train_encoded, batch_size=32), epochs=10, validation_data=(X_val, y_val_encoded))"
   ]
  },
  {
   "cell_type": "code",
   "execution_count": 12,
   "id": "db799670",
   "metadata": {},
   "outputs": [
    {
     "name": "stdout",
     "output_type": "stream",
     "text": [
      "Epoch 1/10\n",
      "1407/1407 [==============================] - ETA: 0s - loss: 1.5115 - accuracy: 0.2939"
     ]
    },
    {
     "ename": "InternalError",
     "evalue": "Failed copying input tensor from /job:localhost/replica:0/task:0/device:CPU:0 to /job:localhost/replica:0/task:0/device:GPU:0 in order to run _EagerConst: Dst tensor is not initialized.",
     "output_type": "error",
     "traceback": [
      "\u001b[1;31m---------------------------------------------------------------------------\u001b[0m",
      "\u001b[1;31mInternalError\u001b[0m                             Traceback (most recent call last)",
      "\u001b[1;32me:\\Work\\Github\\CVPR-NAS-2021\\CVPR.ipynb Cell 19\u001b[0m line \u001b[0;36m1\n\u001b[1;32m----> <a href='vscode-notebook-cell:/e%3A/Work/Github/CVPR-NAS-2021/CVPR.ipynb#X30sZmlsZQ%3D%3D?line=0'>1</a>\u001b[0m history \u001b[39m=\u001b[39m model\u001b[39m.\u001b[39;49mfit(X_train, y_train_encoded, batch_size\u001b[39m=\u001b[39;49m\u001b[39m32\u001b[39;49m,epochs\u001b[39m=\u001b[39;49m\u001b[39m10\u001b[39;49m,validation_data \u001b[39m=\u001b[39;49m( X_val, y_val_encoded))\n",
      "File \u001b[1;32mf:\\anaconda\\envs\\Horus\\lib\\site-packages\\keras\\utils\\traceback_utils.py:70\u001b[0m, in \u001b[0;36mfilter_traceback.<locals>.error_handler\u001b[1;34m(*args, **kwargs)\u001b[0m\n\u001b[0;32m     67\u001b[0m     filtered_tb \u001b[39m=\u001b[39m _process_traceback_frames(e\u001b[39m.\u001b[39m__traceback__)\n\u001b[0;32m     68\u001b[0m     \u001b[39m# To get the full stack trace, call:\u001b[39;00m\n\u001b[0;32m     69\u001b[0m     \u001b[39m# `tf.debugging.disable_traceback_filtering()`\u001b[39;00m\n\u001b[1;32m---> 70\u001b[0m     \u001b[39mraise\u001b[39;00m e\u001b[39m.\u001b[39mwith_traceback(filtered_tb) \u001b[39mfrom\u001b[39;00m \u001b[39mNone\u001b[39;00m\n\u001b[0;32m     71\u001b[0m \u001b[39mfinally\u001b[39;00m:\n\u001b[0;32m     72\u001b[0m     \u001b[39mdel\u001b[39;00m filtered_tb\n",
      "File \u001b[1;32mf:\\anaconda\\envs\\Horus\\lib\\site-packages\\tensorflow\\python\\framework\\constant_op.py:102\u001b[0m, in \u001b[0;36mconvert_to_eager_tensor\u001b[1;34m(value, ctx, dtype)\u001b[0m\n\u001b[0;32m    100\u001b[0m     dtype \u001b[39m=\u001b[39m dtypes\u001b[39m.\u001b[39mas_dtype(dtype)\u001b[39m.\u001b[39mas_datatype_enum\n\u001b[0;32m    101\u001b[0m ctx\u001b[39m.\u001b[39mensure_initialized()\n\u001b[1;32m--> 102\u001b[0m \u001b[39mreturn\u001b[39;00m ops\u001b[39m.\u001b[39;49mEagerTensor(value, ctx\u001b[39m.\u001b[39;49mdevice_name, dtype)\n",
      "\u001b[1;31mInternalError\u001b[0m: Failed copying input tensor from /job:localhost/replica:0/task:0/device:CPU:0 to /job:localhost/replica:0/task:0/device:GPU:0 in order to run _EagerConst: Dst tensor is not initialized."
     ]
    }
   ],
   "source": [
    "history = model.fit(X_train, y_train_encoded, batch_size=32,epochs=10,validation_data =( X_val, y_val_encoded))"
   ]
  },
  {
   "cell_type": "code",
   "execution_count": null,
   "id": "4f0e0d4e",
   "metadata": {},
   "outputs": [],
   "source": [
    "# Evaluate the Model\n",
    "test_loss, test_acc = model.evaluate(test_images, test_labels, verbose=2)\n",
    "print(f'\\nTest accuracy: {test_acc * 100:.2f}%')\n"
   ]
  }
 ],
 "metadata": {
  "kernelspec": {
   "display_name": "Python 3 (ipykernel)",
   "language": "python",
   "name": "python3"
  },
  "language_info": {
   "codemirror_mode": {
    "name": "ipython",
    "version": 3
   },
   "file_extension": ".py",
   "mimetype": "text/x-python",
   "name": "python",
   "nbconvert_exporter": "python",
   "pygments_lexer": "ipython3",
   "version": "3.10.12"
  }
 },
 "nbformat": 4,
 "nbformat_minor": 5
}
